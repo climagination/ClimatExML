{
 "cells": [
  {
   "cell_type": "code",
   "execution_count": 1,
   "id": "7beac2de-9163-48fd-8df2-16d8d88bb45d",
   "metadata": {
    "tags": []
   },
   "outputs": [],
   "source": [
    "import torch\n",
    "import glob\n",
    "import pytorch_lightning as pl\n",
    "from ClimatExML.loader import ClimatExMLData\n",
    "from ClimatExML.wgan_gp import SuperResolutionWGANGP\n",
    "from lightning.pytorch.tuner import Tuner\n",
    "\n",
    "# torch.set_float32_matmul_precision('medium')\n",
    "torch.set_float32_matmul_precision('medium')\n",
    "torch.cuda.empty_cache()"
   ]
  },
  {
   "cell_type": "code",
   "execution_count": 2,
   "id": "8520b9c2-5080-4953-bba2-ee0d0c8a2f5c",
   "metadata": {},
   "outputs": [],
   "source": [
    "data_glob = {\n",
    "    \"lr_test\": [\n",
    "        glob.glob(\"/home/nannau/data/era5/test/U10/*.pt\"),\n",
    "        glob.glob(\"/home/nannau/data/era5/test/V10/*.pt\"),\n",
    "        glob.glob(\"/home/nannau/data/era5/test/ps/*.pt\")\n",
    "    ],\n",
    "    \"lr_train\": [\n",
    "        glob.glob(\"/home/nannau/data/era5/train/U10/*.pt\"),\n",
    "        glob.glob(\"/home/nannau/data/era5/train/V10/*pt\"),\n",
    "        glob.glob(\"/home/nannau/data/era5/train/ps/*.pt\")\n",
    "    ],\n",
    "    \"lr_train\": [\n",
    "        glob.glob(\"/home/nannau/data/era5/train/U10/*.pt\"),\n",
    "        glob.glob(\"/home/nannau/data/era5/train/V10/*.pt\"),\n",
    "        glob.glob(\"/home/nannau/data/era5/train/ps/*.pt\")\n",
    "    ],\n",
    "    \"hr_test\": [\n",
    "        glob.glob(\"/home/nannau/data/wrf/test/U10/*.pt\"),\n",
    "        glob.glob(\"/home/nannau/data/wrf/test/V10/*.pt\"),\n",
    "    ],\n",
    "    \"hr_train\": [\n",
    "        glob.glob(\"/home/nannau/data/wrf/train/U10/*.pt\"),\n",
    "        glob.glob(\"/home/nannau/data/wrf/train/V10/*.pt\"),\n",
    "    ]\n",
    "}"
   ]
  },
  {
   "cell_type": "code",
   "execution_count": 3,
   "id": "c6306ea4-1275-434c-b61c-7f198d4cfa63",
   "metadata": {},
   "outputs": [],
   "source": [
    "from lightning.pytorch.loggers import MLFlowLogger\n",
    "\n",
    "mlf_logger = MLFlowLogger(experiment_name=\"lightning_logs\", tracking_uri=\"file:./ml-runs\")\n",
    "# trainer = Trainer(logger=mlf_logger)"
   ]
  },
  {
   "cell_type": "code",
   "execution_count": 4,
   "id": "97cdbee1-d16b-4dc9-92ab-a6218f557ff0",
   "metadata": {
    "tags": []
   },
   "outputs": [
    {
     "name": "stderr",
     "output_type": "stream",
     "text": [
      "Using 16bit Automatic Mixed Precision (AMP)\n",
      "GPU available: True (cuda), used: True\n",
      "TPU available: False, using: 0 TPU cores\n",
      "IPU available: False, using: 0 IPUs\n",
      "HPU available: False, using: 0 HPUs\n"
     ]
    }
   ],
   "source": [
    "srmodel = SuperResolutionWGANGP(data_glob=data_glob)\n",
    "trainer = pl.Trainer(precision=\"16-mixed\", accelerator=\"gpu\", max_epochs=1, logger=mlf_logger, log_every_n_steps=50)#fast_dev_run=True)\n",
    "# tuner = Tuner(trainer)\n",
    "\n",
    "# Auto-scale batch size by growing it exponentially (default)\n",
    "# tuner.scale_batch_size(srmodel, max_trials=1, mode=\"power\")"
   ]
  },
  {
   "cell_type": "code",
   "execution_count": null,
   "id": "16b40806-bc5b-4cdf-814a-76515735052f",
   "metadata": {},
   "outputs": [
    {
     "name": "stderr",
     "output_type": "stream",
     "text": [
      "WARNING:root:Malformed experiment 'mlruns'. Detailed error Yaml file './ml-runs/mlruns/meta.yaml' does not exist.\n",
      "Traceback (most recent call last):\n",
      "  File \"/home/nannau/miniconda3/envs/xesmf_env/lib/python3.10/site-packages/mlflow/store/tracking/file_store.py\", line 290, in search_experiments\n",
      "    exp = self._get_experiment(exp_id, view_type)\n",
      "  File \"/home/nannau/miniconda3/envs/xesmf_env/lib/python3.10/site-packages/mlflow/store/tracking/file_store.py\", line 383, in _get_experiment\n",
      "    meta = FileStore._read_yaml(experiment_dir, FileStore.META_DATA_FILE_NAME)\n",
      "  File \"/home/nannau/miniconda3/envs/xesmf_env/lib/python3.10/site-packages/mlflow/store/tracking/file_store.py\", line 1083, in _read_yaml\n",
      "    return _read_helper(root, file_name, attempts_remaining=retries)\n",
      "  File \"/home/nannau/miniconda3/envs/xesmf_env/lib/python3.10/site-packages/mlflow/store/tracking/file_store.py\", line 1076, in _read_helper\n",
      "    result = read_yaml(root, file_name)\n",
      "  File \"/home/nannau/miniconda3/envs/xesmf_env/lib/python3.10/site-packages/mlflow/utils/file_utils.py\", line 214, in read_yaml\n",
      "    raise MissingConfigException(\"Yaml file '%s' does not exist.\" % file_path)\n",
      "mlflow.exceptions.MissingConfigException: Yaml file './ml-runs/mlruns/meta.yaml' does not exist.\n",
      "LOCAL_RANK: 0 - CUDA_VISIBLE_DEVICES: [0]\n",
      "\n",
      "  | Name | Type      | Params\n",
      "-----------------------------------\n",
      "0 | G    | Generator | 3.5 M \n",
      "1 | C    | Critic    | 57.1 M\n",
      "-----------------------------------\n",
      "60.6 M    Trainable params\n",
      "0         Non-trainable params\n",
      "60.6 M    Total params\n",
      "242.393   Total estimated model params size (MB)\n"
     ]
    },
    {
     "name": "stdout",
     "output_type": "stream",
     "text": [
      "Epoch 0:  19%|█████████████████▏                                                                         | 1315/6983 [30:53<2:13:07,  1.41s/it, v_num=55af, MAE loss=0.982, MSE loss=1.630, wasserstein=2514.0]"
     ]
    }
   ],
   "source": [
    "trainer.fit(srmodel)"
   ]
  },
  {
   "cell_type": "code",
   "execution_count": null,
   "id": "14bddb38-c788-433d-ab4e-e209f61d2b9f",
   "metadata": {},
   "outputs": [],
   "source": []
  }
 ],
 "metadata": {
  "kernelspec": {
   "display_name": "Python 3 (ipykernel)",
   "language": "python",
   "name": "python3"
  },
  "language_info": {
   "codemirror_mode": {
    "name": "ipython",
    "version": 3
   },
   "file_extension": ".py",
   "mimetype": "text/x-python",
   "name": "python",
   "nbconvert_exporter": "python",
   "pygments_lexer": "ipython3",
   "version": "3.10.9"
  }
 },
 "nbformat": 4,
 "nbformat_minor": 5
}
