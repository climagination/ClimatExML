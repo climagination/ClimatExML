{
 "cells": [
  {
   "cell_type": "markdown",
   "id": "2b5046b3",
   "metadata": {},
   "source": [
    "# How to build docs\n",
    "\n",
    "Policy is to checkout `docs_source` before developing the docs. \n",
    "\n",
    "```\n",
    "git checkout docs_source\n",
    "```\n",
    "\n",
    "## Jupyter Book\n",
    "https://jupyterbook.org/en/stable/publish/gh-pages.html\n",
    "\n",
    "## Python Environment\n",
    "\n",
    "Create a documentation virtual environment in Python, we will call it `jbook`.\n",
    "\n",
    "```bash\n",
    "python -m venv jbook\n",
    "source jbook/bin/activate\n",
    "pip install jupyter-book\n",
    "```\n",
    "\n",
    "## Building the docs\n",
    "In the ClimatExML repo, the subdirectory `docs` has the relevent docs information. Edit these values on the branch `docs_source`. To build the docs from source:\n",
    "\n",
    "```\n",
    "jupyter-book build docs/\n",
    "```\n",
    "\n",
    "## Publishing docs\n",
    "https://jupyterbook.org/en/stable/start/publish.html\n",
    "\n",
    "Install ghp-import with\n",
    "```\n",
    "pip install ghp-import\n",
    "```\n",
    "\n",
    "Push built docs to published branch with\n",
    "\n",
    "```\n",
    "ghp-import -n -p -f _build/html\n",
    "```"
   ]
  }
 ],
 "metadata": {
  "jupytext": {
   "formats": "md:myst",
   "text_representation": {
    "extension": ".md",
    "format_name": "myst",
    "format_version": 0.13,
    "jupytext_version": "1.11.5"
   }
  },
  "kernelspec": {
   "display_name": "Python 3",
   "language": "python",
   "name": "python3"
  },
  "language_info": {
   "codemirror_mode": {
    "name": "ipython",
    "version": 3
   },
   "file_extension": ".py",
   "mimetype": "text/x-python",
   "name": "python",
   "nbconvert_exporter": "python",
   "pygments_lexer": "ipython3",
   "version": "3.10.12"
  },
  "source_map": [
   13
  ]
 },
 "nbformat": 4,
 "nbformat_minor": 5
}