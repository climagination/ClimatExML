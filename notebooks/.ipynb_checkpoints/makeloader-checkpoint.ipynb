{
 "cells": [
  {
   "cell_type": "code",
   "execution_count": 1,
   "id": "7beac2de-9163-48fd-8df2-16d8d88bb45d",
   "metadata": {
    "tags": []
   },
   "outputs": [],
   "source": [
    "import sys, os\n",
    "sys.path.append('..')\n",
    "import glob\n",
    "import torch\n",
    "from loader import ClimatExMLLoader"
   ]
  },
  {
   "cell_type": "code",
   "execution_count": 8,
   "id": "24367283-473c-4fc1-bdc2-41697dd1f8a2",
   "metadata": {
    "tags": []
   },
   "outputs": [],
   "source": [
    "varglobs = [\n",
    "    glob.glob(\"/home/nannau/gom/wrf/train/U10_batch_64/*.pt\"),\n",
    "    glob.glob(\"/home/nannau/gom/wrf/train/V10_batch_64/*.pt\")\n",
    "]\n",
    "wrf_dataloader = ClimatExMLLoader(var_glob=varglobs)\n",
    "\n",
    "varglobs = [\n",
    "    glob.glob(\"/home/nannau/gom/era5/train/U10_batch_64/*.pt\"),\n",
    "    glob.glob(\"/home/nannau/gom/era5/train/V10_batch_64/*.pt\"),\n",
    "    glob.glob(\"/home/nannau/gom/era5/train/tas_batch_64/*.pt\")]\n",
    "era5_dataloader = ClimatExMLLoader(var_glob=varglobs)"
   ]
  },
  {
   "cell_type": "code",
   "execution_count": 9,
   "id": "97cdbee1-d16b-4dc9-92ab-a6218f557ff0",
   "metadata": {
    "tags": []
   },
   "outputs": [
    {
     "data": {
      "text/plain": [
       "torch.Size([64, 3, 79, 79])"
      ]
     },
     "execution_count": 9,
     "metadata": {},
     "output_type": "execute_result"
    }
   ],
   "source": [
    "next(iter(era5_dataloader)).size()"
   ]
  },
  {
   "cell_type": "code",
   "execution_count": null,
   "id": "a0d17fe2-4a73-4a53-b836-935f9269c839",
   "metadata": {},
   "outputs": [],
   "source": []
  }
 ],
 "metadata": {
  "kernelspec": {
   "display_name": "Python 3 (ipykernel)",
   "language": "python",
   "name": "python3"
  },
  "language_info": {
   "codemirror_mode": {
    "name": "ipython",
    "version": 3
   },
   "file_extension": ".py",
   "mimetype": "text/x-python",
   "name": "python",
   "nbconvert_exporter": "python",
   "pygments_lexer": "ipython3",
   "version": "3.10.9"
  }
 },
 "nbformat": 4,
 "nbformat_minor": 5
}
